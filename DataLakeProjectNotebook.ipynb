{
 "cells": [
  {
   "cell_type": "code",
   "execution_count": 1,
   "metadata": {},
   "outputs": [],
   "source": [
    "from pyspark.sql import SparkSession\n",
    "from pyspark import SparkConf, SparkContext\n",
    "import os\n",
    "import configparser"
   ]
  },
  {
   "cell_type": "code",
   "execution_count": 2,
   "metadata": {},
   "outputs": [],
   "source": [
    "config = configparser.ConfigParser()\n",
    "\n",
    "#Normally this file should be in ~/.aws/credentials\n",
    "config.read('dl.cfg')\n",
    "\n",
    "#print(config['AWS']['AWS_ACCESS_KEY_ID'])\n",
    "\n",
    "os.environ[\"AWS_ACCESS_KEY_ID\"]= config['AWS']['AWS_ACCESS_KEY_ID']\n",
    "os.environ[\"AWS_SECRET_ACCESS_KEY\"]= config['AWS']['AWS_SECRET_ACCESS_KEY']"
   ]
  },
  {
   "cell_type": "code",
   "execution_count": 3,
   "metadata": {},
   "outputs": [],
   "source": [
    "spark = SparkSession \\\n",
    "        .builder \\\n",
    "        .config(\"spark.jars.packages\", \"org.apache.hadoop:hadoop-aws:3.2.0\") \\\n",
    "        .getOrCreate()"
   ]
  },
  {
   "cell_type": "code",
   "execution_count": 7,
   "metadata": {},
   "outputs": [],
   "source": [
    "df = spark.read.json(\"s3a://udacity-dend/song_data/A/A/A\")"
   ]
  },
  {
   "cell_type": "code",
   "execution_count": 8,
   "metadata": {},
   "outputs": [
    {
     "name": "stdout",
     "output_type": "stream",
     "text": [
      "root\n",
      " |-- artist_id: string (nullable = true)\n",
      " |-- artist_latitude: double (nullable = true)\n",
      " |-- artist_location: string (nullable = true)\n",
      " |-- artist_longitude: double (nullable = true)\n",
      " |-- artist_name: string (nullable = true)\n",
      " |-- duration: double (nullable = true)\n",
      " |-- num_songs: long (nullable = true)\n",
      " |-- song_id: string (nullable = true)\n",
      " |-- title: string (nullable = true)\n",
      " |-- year: long (nullable = true)\n",
      "\n",
      "+------------------+---------------+--------------------+----------------+--------------------+---------+---------+------------------+--------------------+----+\n",
      "|         artist_id|artist_latitude|     artist_location|artist_longitude|         artist_name| duration|num_songs|           song_id|               title|year|\n",
      "+------------------+---------------+--------------------+----------------+--------------------+---------+---------+------------------+--------------------+----+\n",
      "|ARTC1LV1187B9A4858|        51.4536|Goldsmith's Colle...|        -0.01802|  The Bonzo Dog Band|301.40036|        1|SOAFBCP12A8C13CC7D|King Of Scurf (20...|1972|\n",
      "|ARA23XO1187B9AF18F|       40.57885|Carteret, New Jersey|       -74.21956|     The Smithereens|  192.522|        1|SOKTJDS12AF72A25E5|Drown In My Own T...|   0|\n",
      "|ARSVTNL1187B992A91|       51.50632|     London, England|        -0.12714|       Jonathan King|129.85424|        1|SOEKAZG12AB018837E|I'll Slap Your Fa...|2001|\n",
      "|AR73AIO1187B9AD57B|       37.77916|   San Francisco, CA|      -122.42005|   Western Addiction|118.07302|        1|SOQPWCR12A6D4FB2A3|A Poor Recipe For...|2005|\n",
      "|ARXQBR11187B98A2CC|           null|  Liverpool, England|            null|Frankie Goes To H...|821.05424|        1|SOBRKGM12A8C139EF6|Welcome to the Pl...|1985|\n",
      "+------------------+---------------+--------------------+----------------+--------------------+---------+---------+------------------+--------------------+----+\n",
      "only showing top 5 rows\n",
      "\n"
     ]
    }
   ],
   "source": [
    "df.printSchema()\n",
    "df.show(5)"
   ]
  },
  {
   "cell_type": "code",
   "execution_count": 33,
   "metadata": {},
   "outputs": [],
   "source": [
    "from pyspark.sql.types import *\n",
    "\n",
    "schema = StructType([\n",
    "    StructField(\"artist_id\",StringType()),\n",
    "    StructField(\"artist_latitude\",DoubleType()),\n",
    "    StructField(\"artist_location\",StringType()),\n",
    "    StructField(\"artist_longitude\",DoubleType()),\n",
    "    StructField(\"artist_name\",StringType()),\n",
    "    StructField(\"duration\",DoubleType()),\n",
    "    StructField(\"num_songs\",LongType()),\n",
    "    StructField(\"song_id\",StringType()),\n",
    "    StructField(\"title\",StringType()),\n",
    "    StructField(\"year\",LongType())\n",
    "    ])\n",
    "\n",
    "df = spark.read.json(\"s3a://udacity-dend/song_data/A/A/*/*.json\", schema=schema)"
   ]
  },
  {
   "cell_type": "code",
   "execution_count": 34,
   "metadata": {},
   "outputs": [
    {
     "data": {
      "text/plain": [
       "604"
      ]
     },
     "execution_count": 34,
     "metadata": {},
     "output_type": "execute_result"
    }
   ],
   "source": [
    "df.count()"
   ]
  },
  {
   "cell_type": "code",
   "execution_count": 37,
   "metadata": {},
   "outputs": [
    {
     "name": "stdout",
     "output_type": "stream",
     "text": [
      "+------------------+---------------+--------------------+----------------+--------------------+----------+---------+------------------+--------------------+----+\n",
      "|         artist_id|artist_latitude|     artist_location|artist_longitude|         artist_name|  duration|num_songs|           song_id|               title|year|\n",
      "+------------------+---------------+--------------------+----------------+--------------------+----------+---------+------------------+--------------------+----+\n",
      "|ARSUVLW12454A4C8B8|       35.83073|           Tennessee|       -85.97874|Royal Philharmoni...|  94.56281|        1|SOBTCUI12A8AE48B70|Faust: Ballet Mus...|   0|\n",
      "|ARXQC081187FB4AD42|       54.31407|                  UK|        -2.23001|William Shatner_ ...|1047.71873|        1|SOXRPUH12AB017F769|Exodus: Part I: M...|   0|\n",
      "|ARWUNH81187FB4A3E0|           null|     Miami , Florida|            null|         Trick Daddy| 227.10812|        1|SOVNKJI12A8C13CB0D|Take It To Da Hou...|2001|\n",
      "|ARTC1LV1187B9A4858|        51.4536|Goldsmith's Colle...|        -0.01802|  The Bonzo Dog Band| 301.40036|        1|SOAFBCP12A8C13CC7D|King Of Scurf (20...|1972|\n",
      "|ARA23XO1187B9AF18F|       40.57885|Carteret, New Jersey|       -74.21956|     The Smithereens|   192.522|        1|SOKTJDS12AF72A25E5|Drown In My Own T...|   0|\n",
      "+------------------+---------------+--------------------+----------------+--------------------+----------+---------+------------------+--------------------+----+\n",
      "only showing top 5 rows\n",
      "\n"
     ]
    }
   ],
   "source": [
    "df.createOrReplaceTempView(\"song_data\")\n",
    "df_songs = spark.sql(\"\"\"select song_id, title, artist_id, year, duration from song_data\"\"\")\n",
    "df_artists = spark.sql(\"\"\" select \n",
    "    artist_id, \n",
    "    artist_name as name, \n",
    "    artist_location as location, \n",
    "    artist_latitude as latitude , \n",
    "    artist_longitude as longitude \n",
    "    from\n",
    "    song_data \"\"\")"
   ]
  },
  {
   "cell_type": "code",
   "execution_count": 113,
   "metadata": {},
   "outputs": [],
   "source": [
    "\n",
    "#columns = Seq(\"song_id\",\"title\",\"artist_id\",\"year\",\"duration\")\n",
    "#df_songs = df_songs.toDF(columns:_*)\n",
    "\n",
    "\n",
    "df_songs.write \\\n",
    "    .mode(\"append\") \\\n",
    "    .partitionBy(\"year\", \"artist_id\") \\\n",
    "    .parquet(\"s3a://data-engineering-files/parquet/songs.parquet\")\n",
    "df_artists.write \\\n",
    "     .mode(\"append\") \\\n",
    "    .parquet(\"s3a://data-engineering-files/parquet/artists.parquet\")\n"
   ]
  },
  {
   "cell_type": "code",
   "execution_count": 48,
   "metadata": {},
   "outputs": [],
   "source": [
    "log_schema = StructType([\n",
    "    StructField(\"artist\",StringType()),\n",
    "    StructField(\"auth\",StringType()),\n",
    "    StructField(\"firstName\",StringType()),\n",
    "    StructField(\"gender\",StringType()),\n",
    "    StructField(\"itemInSession\",LongType()),\n",
    "    StructField(\"lastName\",StringType()),\n",
    "    StructField(\"length\",DoubleType()),\n",
    "    StructField(\"level\",StringType()),\n",
    "    StructField(\"location\",StringType()),\n",
    "    StructField(\"method\",StringType()),\n",
    "    StructField(\"page\",StringType()),\n",
    "    StructField(\"registration\",StringType()),\n",
    "    StructField(\"sessionId\",StringType()),\n",
    "    StructField(\"song\",StringType()),\n",
    "    StructField(\"status\",IntegerType()),\n",
    "    StructField(\"ts\",LongType()),\n",
    "    StructField(\"userAgent\",StringType()),\n",
    "    StructField(\"userId\",StringType())\n",
    "    ])\n",
    "\n",
    "\n",
    "log_data_df = spark.read.json(\"s3a://udacity-dend/log_data/*/*/*.json\", schema=log_schema, multiLine=\"true\")"
   ]
  },
  {
   "cell_type": "code",
   "execution_count": 49,
   "metadata": {},
   "outputs": [
    {
     "data": {
      "text/plain": [
       "30"
      ]
     },
     "execution_count": 49,
     "metadata": {},
     "output_type": "execute_result"
    }
   ],
   "source": [
    "log_data_df.count()"
   ]
  },
  {
   "cell_type": "code",
   "execution_count": 51,
   "metadata": {},
   "outputs": [
    {
     "name": "stdout",
     "output_type": "stream",
     "text": [
      "+--------------------+----------+---------+------+-------------+---------+---------+-----+--------------------+------+--------+-----------------+---------+--------------------+------+-------------+--------------------+------+\n",
      "|              artist|      auth|firstName|gender|itemInSession| lastName|   length|level|            location|method|    page|     registration|sessionId|                song|status|           ts|           userAgent|userId|\n",
      "+--------------------+----------+---------+------+-------------+---------+---------+-----+--------------------+------+--------+-----------------+---------+--------------------+------+-------------+--------------------+------+\n",
      "|            Harmonia| Logged In|     Ryan|     M|            0|    Smith|655.77751| free|San Jose-Sunnyval...|   PUT|NextSong|1.541016707796E12|      583|       Sehr kosmisch|   200|1542241826796|\"Mozilla/5.0 (X11...|    26|\n",
      "|                null|Logged Out|     null|  null|            0|     null|     null| free|                null|   PUT|   Login|             null|      741|                null|   307|1542760054796|                null|      |\n",
      "|     The Grass Roots| Logged In|     Sara|     F|           72|  Johnson|166.71302| paid|   Winston-Salem, NC|   PUT|NextSong|1.540809153796E12|      411|Let's Live For Today|   200|1542153802796|\"Mozilla/5.0 (iPh...|    95|\n",
      "|Mitch Ryder & The...| Logged In|    Tegan|     F|           65|   Levine|205.03465| paid|Portland-South Po...|   PUT|NextSong|1.540794356796E12|      992|Jenny Take A Ride...|   200|1543363215796|\"Mozilla/5.0 (Mac...|    80|\n",
      "|       A Fine Frenzy| Logged In| Anabelle|     F|            0|  Simpson|267.91138| free|Philadelphia-Camd...|   PUT|NextSong|1.541044398796E12|      256|Almost Lover (Alb...|   200|1541377992796|\"Mozilla/5.0 (Mac...|    69|\n",
      "|                null| Logged In|    Kevin|     M|            0| Arellano|     null| free|Harrisburg-Carlis...|   GET|    Home|1.540006905796E12|      514|                null|   200|1542069417796|\"Mozilla/5.0 (Mac...|    66|\n",
      "|       Stephen Lynch| Logged In|   Jayden|     M|            0|     Bell|182.85669| free|Dallas-Fort Worth...|   PUT|NextSong|1.540991795796E12|      829|   Jim Henson's Dead|   200|1543537327796|Mozilla/5.0 (comp...|    91|\n",
      "|            Mudhoney| Logged In|   Aleena|     F|           10|    Kirby|231.57506| paid|Waterloo-Cedar Fa...|   PUT|NextSong|1.541022995796E12|      637|      Get Into Yours|   200|1542326457796|Mozilla/5.0 (Maci...|    44|\n",
      "|         The Killers| Logged In|   Jayden|     M|           32|   Graves|246.80444| paid|    Marinette, WI-MI|   PUT|NextSong|1.540664184796E12|      594|        Read My Mind|   200|1542672042796|\"Mozilla/5.0 (Win...|    25|\n",
      "|The Future Sound ...| Logged In|     Ryan|     M|            0|    Smith|405.28934| free|San Jose-Sunnyval...|   PUT|NextSong|1.541016707796E12|      873|    Papua New Guinea|   200|1543020300796|\"Mozilla/5.0 (X11...|    26|\n",
      "|   Sydney Youngblood| Logged In|    Jacob|     M|           53|    Klein|238.07955| paid|Tampa-St. Petersb...|   PUT|NextSong|1.540558108796E12|      954|   Ain't No Sunshine|   200|1543449657796|\"Mozilla/5.0 (Mac...|    73|\n",
      "|                null| Logged In|     Lily|     F|            0|    Burns|     null| free|New York-Newark-J...|   GET|    Home|1.540621059796E12|      689|                null|   200|1542592468796|\"Mozilla/5.0 (Win...|    32|\n",
      "|Barry Tuckwell/Ac...| Logged In| Mohammad|     M|            0|Rodriguez|277.15873| paid|Sacramento--Rosev...|   PUT|NextSong|1.540511766796E12|      961|Horn Concerto No....|   200|1543279932796|\"Mozilla/5.0 (Mac...|    88|\n",
      "| Great Lake Swimmers| Logged In|    Kevin|     M|            0| Arellano|215.11791| free|Harrisburg-Carlis...|   PUT|NextSong|1.540006905796E12|      815|    Your Rocky Spine|   200|1542931645796|\"Mozilla/5.0 (Mac...|    66|\n",
      "|                Muse| Logged In|   Harper|     M|            1|  Barrett|209.50159| paid|New York-Newark-J...|   PUT|NextSong|1.540685364796E12|      275|Supermassive Blac...|   200|1541721977796|\"Mozilla/5.0 (Win...|    42|\n",
      "|                Muse| Logged In|   Jordan|     F|            3|    Hicks|259.26485| free|         Salinas, CA|   PUT|NextSong|1.540008898796E12|      814|Supermassive Blac...|   200|1543190563796|\"Mozilla/5.0 (Mac...|    37|\n",
      "|                null| Logged In| Dominick|     M|            0|   Norris|     null| free|Los Angeles-Long ...|   GET|    Home|1.540975502796E12|       44|                null|   200|1541635950796|\"Mozilla/5.0 (iPh...|    45|\n",
      "|                null| Logged In|  Celeste|     F|            0| Williams|     null| free|   Klamath Falls, OR|   GET|    Home|1.541077528796E12|      438|                null|   200|1541990217796|\"Mozilla/5.0 (Win...|    53|\n",
      "|        Miami Horror| Logged In|     Kate|     F|           88|  Harrell| 250.8273| paid|Lansing-East Lans...|   PUT|NextSong|1.540472624796E12|      293|           Sometimes|   200|1541548876796|\"Mozilla/5.0 (X11...|    97|\n",
      "|                null| Logged In| Theodore|     M|            0|    Smith|     null| free|Houston-The Woodl...|   GET|    Home|1.540306145796E12|      154|                null|   200|1541290555796|Mozilla/5.0 (Wind...|    52|\n",
      "+--------------------+----------+---------+------+-------------+---------+---------+-----+--------------------+------+--------+-----------------+---------+--------------------+------+-------------+--------------------+------+\n",
      "only showing top 20 rows\n",
      "\n"
     ]
    }
   ],
   "source": [
    "log_data_df.show()\n",
    "log_data_df.createOrReplaceTempView(\"log_data\")"
   ]
  },
  {
   "cell_type": "code",
   "execution_count": 54,
   "metadata": {},
   "outputs": [
    {
     "name": "stdout",
     "output_type": "stream",
     "text": [
      "+-------+----------+---------+------+-----+\n",
      "|user_id|first_name|last_name|gender|level|\n",
      "+-------+----------+---------+------+-----+\n",
      "|     26|      Ryan|    Smith|     M| free|\n",
      "|     95|      Sara|  Johnson|     F| paid|\n",
      "|     80|     Tegan|   Levine|     F| paid|\n",
      "|     69|  Anabelle|  Simpson|     F| free|\n",
      "|     91|    Jayden|     Bell|     M| free|\n",
      "+-------+----------+---------+------+-----+\n",
      "only showing top 5 rows\n",
      "\n"
     ]
    }
   ],
   "source": [
    "user_df = spark.sql(\"\"\"select \n",
    "    CAST(userId as INT) as user_id, \n",
    "    firstName as first_name, \n",
    "    lastName as last_name, \n",
    "    gender,\n",
    "    level \n",
    "    from\n",
    "    log_data\n",
    "    where page ='NextSong'\"\"\")\n",
    "user_df.show(5)"
   ]
  },
  {
   "cell_type": "code",
   "execution_count": 122,
   "metadata": {},
   "outputs": [
    {
     "data": {
      "text/plain": [
       "21"
      ]
     },
     "execution_count": 122,
     "metadata": {},
     "output_type": "execute_result"
    }
   ],
   "source": [
    "#Pending Items 1. Append Unique_id 2. give default value for user_id\n",
    "\n",
    "song_plays_df = spark.sql(\"\"\" select\n",
    "    from_unixtime(ts/1000,'yyyy-MM-dd HH:mm:ss') as start_time,\n",
    "    CAST(userId as INT) as user_id,\n",
    "    level,\n",
    "    s.song_id as song_id,\n",
    "    s.artist_id as artist_id,\n",
    "    sessionId as session_id,\n",
    "    location as location,\n",
    "    userAgent as user_agent,\n",
    "    from_unixtime(ts/1000,'MMM') as month,\n",
    "    from_unixtime(ts/1000,'y') as year\n",
    "    from log_data l\n",
    "    left join \n",
    "    song_data s\n",
    "    on l.artist = s.artist_name \n",
    "    where page ='NextSong'\n",
    "    \"\"\")\n",
    "#song_plays_df.show(5)\n",
    "song_plays_df.count()"
   ]
  },
  {
   "cell_type": "code",
   "execution_count": 117,
   "metadata": {},
   "outputs": [
    {
     "name": "stdout",
     "output_type": "stream",
     "text": [
      "+-------------------+-------+-----+------------------+------------------+----------+--------------------+--------------------+-----+----+-----------+\n",
      "|         start_time|user_id|level|           song_id|         artist_id|session_id|            location|          user_agent|month|year|songplay_id|\n",
      "+-------------------+-------+-----+------------------+------------------+----------+--------------------+--------------------+-----+----+-----------+\n",
      "|2018-11-14 19:30:26|     26| free|              null|              null|       583|San Jose-Sunnyval...|\"Mozilla/5.0 (X11...|  Nov|2018|          1|\n",
      "|2018-11-13 19:03:22|     95| paid|              null|              null|       411|   Winston-Salem, NC|\"Mozilla/5.0 (iPh...|  Nov|2018|          2|\n",
      "|2018-11-27 19:00:15|     80| paid|              null|              null|       992|Portland-South Po...|\"Mozilla/5.0 (Mac...|  Nov|2018|          3|\n",
      "|2018-11-04 19:33:12|     69| free|SOBBGQK12AB0183F1E|AR4E4121187FB51F4E|       256|Philadelphia-Camd...|\"Mozilla/5.0 (Mac...|  Nov|2018|          4|\n",
      "|2018-11-29 19:22:07|     91| free|              null|              null|       829|Dallas-Fort Worth...|Mozilla/5.0 (comp...|  Nov|2018|          5|\n",
      "+-------------------+-------+-----+------------------+------------------+----------+--------------------+--------------------+-----+----+-----------+\n",
      "only showing top 5 rows\n",
      "\n"
     ]
    }
   ],
   "source": [
    "#Reference https://stackoverflow.com/questions/51200217/how-to-create-sequential-number-column-in-pyspark-dataframe\n",
    "\n",
    "from pyspark.sql.window import Window\n",
    "from pyspark.sql.functions import monotonically_increasing_id,row_number\n",
    "\n",
    "song_plays_df =song_plays_df.withColumn(\"songplay_id\",row_number().over(Window.orderBy(monotonically_increasing_id())))\n",
    "song_plays_df.show(5)"
   ]
  },
  {
   "cell_type": "code",
   "execution_count": 105,
   "metadata": {},
   "outputs": [],
   "source": [
    "time_df = spark.sql(\"\"\"select \n",
    "    ts as ts,\n",
    "    from_unixtime(ts/1000,'yyyy-MM-dd HH:mm:ss') as start_time,\n",
    "    from_unixtime(ts/1000,'H') as hour,\n",
    "    from_unixtime(ts/1000,'dd') as day,\n",
    "    from_unixtime(ts/1000,'MMM') as month,\n",
    "    from_unixtime(ts/1000,'y') as year,\n",
    "    from_unixtime(ts/1000,'E') as weekday\n",
    "    from\n",
    "    log_data\n",
    "    where page ='NextSong'\"\"\")"
   ]
  },
  {
   "cell_type": "code",
   "execution_count": 106,
   "metadata": {},
   "outputs": [],
   "source": [
    "from datetime import datetime as dt\n",
    "\n",
    "convertToWeekDay = F.udf(lambda z: dt.fromtimestamp(z/1000).isocalendar()[1], IntegerType())"
   ]
  },
  {
   "cell_type": "code",
   "execution_count": 110,
   "metadata": {},
   "outputs": [
    {
     "name": "stdout",
     "output_type": "stream",
     "text": [
      "+-------------------+----+---+-----+----+-------+----+\n",
      "|         start_time|hour|day|month|year|weekday|week|\n",
      "+-------------------+----+---+-----+----+-------+----+\n",
      "|2018-11-14 19:30:26|  19| 14|  Nov|2018|    Wed|  46|\n",
      "|2018-11-13 19:03:22|  19| 13|  Nov|2018|    Tue|  46|\n",
      "|2018-11-27 19:00:15|  19| 27|  Nov|2018|    Tue|  48|\n",
      "|2018-11-04 19:33:12|  19| 04|  Nov|2018|    Sun|  44|\n",
      "|2018-11-29 19:22:07|  19| 29|  Nov|2018|    Thu|  48|\n",
      "+-------------------+----+---+-----+----+-------+----+\n",
      "only showing top 5 rows\n",
      "\n"
     ]
    }
   ],
   "source": [
    "time_df = time_df.withColumn('week', convertToWeekDay(F.col('ts')))\n",
    "time_df = time_df.drop('ts')\n",
    "time_df.show(5)"
   ]
  },
  {
   "cell_type": "code",
   "execution_count": 111,
   "metadata": {},
   "outputs": [],
   "source": [
    "user_df.write.parquet(\"s3a://data-engineering-files/parquet/users.parquet\")\n",
    "\n",
    "time_df.write.parquet(\"s3a://data-engineering-files/parquet/time.parquet\")"
   ]
  },
  {
   "cell_type": "code",
   "execution_count": 118,
   "metadata": {},
   "outputs": [],
   "source": [
    "song_plays_df.write \\\n",
    ".mode(\"append\") \\\n",
    ".partitionBy(\"year\",\"month\") \\\n",
    ".parquet(\"s3a://data-engineering-files/parquet/songplays.parquet\")"
   ]
  },
  {
   "cell_type": "code",
   "execution_count": null,
   "metadata": {},
   "outputs": [],
   "source": []
  }
 ],
 "metadata": {
  "kernelspec": {
   "display_name": "Python 3",
   "language": "python",
   "name": "python3"
  },
  "language_info": {
   "codemirror_mode": {
    "name": "ipython",
    "version": 3
   },
   "file_extension": ".py",
   "mimetype": "text/x-python",
   "name": "python",
   "nbconvert_exporter": "python",
   "pygments_lexer": "ipython3",
   "version": "3.7.3"
  }
 },
 "nbformat": 4,
 "nbformat_minor": 2
}
